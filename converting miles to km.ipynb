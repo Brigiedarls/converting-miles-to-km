{
 "cells": [
  {
   "cell_type": "code",
   "execution_count": 1,
   "id": "99e24002",
   "metadata": {},
   "outputs": [
    {
     "ename": "SyntaxError",
     "evalue": "positional argument follows keyword argument (Temp/ipykernel_19092/86752264.py, line 5)",
     "output_type": "error",
     "traceback": [
      "\u001b[1;36m  File \u001b[1;32m\"C:\\Users\\DUROWOJU\\AppData\\Local\\Temp/ipykernel_19092/86752264.py\"\u001b[1;36m, line \u001b[1;32m5\u001b[0m\n\u001b[1;33m    print=mile(miles=kilometer,('kilometers'))\u001b[0m\n\u001b[1;37m                                             ^\u001b[0m\n\u001b[1;31mSyntaxError\u001b[0m\u001b[1;31m:\u001b[0m positional argument follows keyword argument\n"
     ]
    }
   ],
   "source": [
    "\n",
    "miles=1.609\n",
    "miles=float(input('number of mies'))\n",
    "print(miles)\n",
    "kilometers=miles*1.609\n",
    "print=mile(miles=kilometer,('kilometers'))\n"
   ]
  },
  {
   "cell_type": "code",
   "execution_count": null,
   "id": "b2d778df",
   "metadata": {},
   "outputs": [],
   "source": []
  }
 ],
 "metadata": {
  "kernelspec": {
   "display_name": "Python 3 (ipykernel)",
   "language": "python",
   "name": "python3"
  },
  "language_info": {
   "codemirror_mode": {
    "name": "ipython",
    "version": 3
   },
   "file_extension": ".py",
   "mimetype": "text/x-python",
   "name": "python",
   "nbconvert_exporter": "python",
   "pygments_lexer": "ipython3",
   "version": "3.9.7"
  }
 },
 "nbformat": 4,
 "nbformat_minor": 5
}
